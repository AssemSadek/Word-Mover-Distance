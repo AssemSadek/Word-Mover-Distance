{
 "cells": [
  {
   "cell_type": "code",
   "execution_count": 1,
   "metadata": {},
   "outputs": [],
   "source": [
    "# Some tools for the notebook\n",
    "%load_ext autoreload\n",
    "%autoreload 2\n",
    "%reload_ext autoreload\n",
    "%matplotlib inline"
   ]
  },
  {
   "cell_type": "code",
   "execution_count": 2,
   "metadata": {},
   "outputs": [
    {
     "name": "stderr",
     "output_type": "stream",
     "text": [
      "/home/assemamsadek/anaconda3/envs/ml/lib/python3.7/site-packages/smart_open/ssh.py:34: UserWarning: paramiko missing, opening SSH/SCP/SFTP paths will be disabled.  `pip install paramiko` to suppress\n",
      "  warnings.warn('paramiko missing, opening SSH/SCP/SFTP paths will be disabled.  `pip install paramiko` to suppress')\n",
      "[nltk_data] Downloading package stopwords to\n",
      "[nltk_data]     /home/assemamsadek/nltk_data...\n",
      "[nltk_data]   Package stopwords is already up-to-date!\n"
     ]
    }
   ],
   "source": [
    "from word_mover_distance import WordMoverDistance\n",
    "from kNN_classifier import kNNClassifier\n",
    "from bbc_sport_data_loader import BBCSportDataLoader, preprocess_document\n",
    "from utils import calculate_accuracy"
   ]
  },
  {
   "cell_type": "code",
   "execution_count": 3,
   "metadata": {},
   "outputs": [],
   "source": [
    "word_mover_distance = WordMoverDistance(pretrained_w2v_path=\"model/GoogleNews-vectors-negative300.bin.gz\", normalize= True)"
   ]
  },
  {
   "cell_type": "code",
   "execution_count": 4,
   "metadata": {},
   "outputs": [
    {
     "name": "stdout",
     "output_type": "stream",
     "text": [
      "SENTENCES\n",
      "['obama', 'speaks', 'media', 'illinois']\n",
      "['president', 'greets', 'press', 'chicago']\n",
      "['band', 'gave', 'concert', 'japan']\n",
      "['obama', 'speaks', 'illinois']\n",
      "#########################\n",
      "illustrate WMD\n",
      "1.0174646259300113\n",
      "1.0174646259300113\n",
      "1.2699965066551566\n",
      "1.1220604216823555\n",
      "#########################\n",
      "illustrate WCD\n",
      "0.5015103\n",
      "0.5015103\n",
      "0.70544666\n",
      "0.59801245\n",
      "#########################\n",
      "illustrate RWND\n",
      "1.010650098323822\n",
      "1.010650098323822\n",
      "1.258552074432373\n",
      "1.0881770849227905\n",
      "#########################\n",
      "illustrate RWND with one constraint\n",
      "0.929298147559166\n",
      "1.010650098323822\n",
      "1.257505625486374\n",
      "1.0881770849227905\n",
      "#########################\n",
      "illustrate distance between sentence and itself\n",
      "WMD 0.0\n",
      "WCD 0.0\n",
      "RWMD 0.0\n",
      "RWMD with one constraint 0.0\n",
      "#########################\n",
      "illustrate kNN with RWMD\n",
      "([0, 2, 1], [1.010650098323822, 1.0881770849227905, 1.258552074432373])\n",
      "#########################\n",
      "illustrate kNN with exhaustive WMD\n",
      "([0, 2, 1], [1.0174646259300113, 1.1220604216823555, 1.2699965066551566])\n",
      "#########################\n",
      "illustrate kNN prefetch and prune\n",
      "([0, 2, 1], [1.0174646259300113, 1.1220604216823555, 1.2699965066551566])\n"
     ]
    }
   ],
   "source": [
    "sentence_obama = 'Obama speaks to the !media in Illinois.'\n",
    "sentence_president = 'The president ; greets* the $ press in Chicago.'\n",
    "sentence_band = 'The band gave a concert in Japan^.'\n",
    "sentence_short = \"Obama speaks in Illinois.\"\n",
    "\n",
    "sentence_obama = preprocess_document(sentence_obama,word_mover_distance.w2v_model.vocab)\n",
    "sentence_president = preprocess_document(sentence_president,word_mover_distance.w2v_model.vocab)\n",
    "sentence_band = preprocess_document(sentence_band,word_mover_distance.w2v_model.vocab)\n",
    "sentence_short = preprocess_document(sentence_short,word_mover_distance.w2v_model.vocab)\n",
    "\n",
    "illustrate = True\n",
    "\n",
    "if illustrate:\n",
    "    print(\"SENTENCES\")\n",
    "    print(sentence_obama)\n",
    "    print(sentence_president)\n",
    "    print(sentence_band)\n",
    "    print(sentence_short)\n",
    "    print(\"#########################\")\n",
    "    print(\"illustrate WMD\")\n",
    "    print(word_mover_distance.WMD(sentence_obama,sentence_president))\n",
    "    print(word_mover_distance.WMD(sentence_president, sentence_obama))\n",
    "    print(word_mover_distance.WMD(sentence_president, sentence_band))\n",
    "    print(word_mover_distance.WMD(sentence_president, sentence_short))\n",
    "    print(\"#########################\")\n",
    "    print(\"illustrate WCD\")\n",
    "    print(word_mover_distance.WCD(sentence_obama,sentence_president))\n",
    "    print(word_mover_distance.WCD(sentence_president, sentence_obama))\n",
    "    print(word_mover_distance.WCD(sentence_president, sentence_band))\n",
    "    print(word_mover_distance.WCD(sentence_president, sentence_short))\n",
    "    print(\"#########################\")\n",
    "    print(\"illustrate RWND\")\n",
    "    print(word_mover_distance.RWMD(sentence_obama, sentence_president))\n",
    "    print(word_mover_distance.RWMD(sentence_president, sentence_obama))\n",
    "    print(word_mover_distance.RWMD(sentence_president, sentence_band))\n",
    "    print(word_mover_distance.RWMD(sentence_president, sentence_short))\n",
    "    print(\"#########################\")\n",
    "    print(\"illustrate RWND with one constraint\")\n",
    "    print(word_mover_distance.RWMD_one_constraint(sentence_obama, sentence_president))\n",
    "    print(word_mover_distance.RWMD_one_constraint(sentence_president, sentence_obama))\n",
    "    print(word_mover_distance.RWMD_one_constraint(sentence_president, sentence_band))\n",
    "    print(word_mover_distance.RWMD_one_constraint(sentence_president, sentence_short))\n",
    "    print(\"#########################\")\n",
    "    print(\"illustrate distance between sentence and itself\")\n",
    "    print(\"WMD\", word_mover_distance.WMD(sentence_obama,sentence_obama))\n",
    "    print(\"WCD\", word_mover_distance.WCD(sentence_obama,sentence_obama))\n",
    "    print(\"RWMD\", word_mover_distance.RWMD(sentence_obama, sentence_obama))\n",
    "    print(\"RWMD with one constraint\", word_mover_distance.RWMD_one_constraint(sentence_obama, sentence_obama))\n",
    "    print(\"#########################\")\n",
    "    print(\"illustrate kNN with RWMD\")\n",
    "    print(word_mover_distance.kNN_RWMD(sentence_president, [sentence_obama, sentence_band, sentence_short]))\n",
    "    print(\"#########################\")\n",
    "    print(\"illustrate kNN with exhaustive WMD\")\n",
    "    print(word_mover_distance.kNN_exhaustive_WMD(sentence_president, [sentence_obama, sentence_band, sentence_short]))\n",
    "    print(\"#########################\")\n",
    "    print(\"illustrate kNN prefetch and prune\")\n",
    "    print(word_mover_distance.kNN_prefetch_and_prune(sentence_president, [sentence_obama, sentence_band, sentence_short]))"
   ]
  },
  {
   "cell_type": "code",
   "execution_count": 5,
   "metadata": {},
   "outputs": [],
   "source": [
    "bbc_sport_data_loader = BBCSportDataLoader('data/bbcsport/', word_mover_distance.w2v_model.vocab)\n",
    "kNN_classifier = kNNClassifier(word_mover_distance)"
   ]
  },
  {
   "cell_type": "code",
   "execution_count": 6,
   "metadata": {},
   "outputs": [
    {
     "name": "stdout",
     "output_type": "stream",
     "text": [
      "train_size: 58\n",
      "test_size: 15\n"
     ]
    }
   ],
   "source": [
    "x_train, y_train, x_test, y_test = bbc_sport_data_loader.train_test_split(data_portion =0.1, test_precentage = 0.2)\n",
    "train_size = len(x_train)\n",
    "test_size = len(x_test)\n",
    "print(\"train_size: {}\".format(train_size))\n",
    "print(\"test_size: {}\".format(test_size))\n",
    "\n",
    "kNN_classifier.train(x_train, y_train)\n",
    "k = 3"
   ]
  },
  {
   "cell_type": "code",
   "execution_count": 8,
   "metadata": {},
   "outputs": [
    {
     "name": "stdout",
     "output_type": "stream",
     "text": [
      "CLASSIFY USING CLASSIC RWMD \n",
      "'predict'  294.42 s\n",
      "0.8666666666666667\n"
     ]
    }
   ],
   "source": [
    "print(\"CLASSIFY USING CLASSIC RWMD \")\n",
    "y_pred, kNN_indices, kNN_docs, kNN_distances = kNN_classifier.predict(x_test, k=k, algorithm='rwmd')\n",
    "rwmd_accuracy = calculate_accuracy(y_pred, y_test)\n",
    "print(\"accuracy: {}\".format(rwmd_accuracy))"
   ]
  },
  {
   "cell_type": "code",
   "execution_count": null,
   "metadata": {},
   "outputs": [
    {
     "name": "stdout",
     "output_type": "stream",
     "text": [
      "CLASSIFY USING PREFEtCH AND PRUNE USING DIFFERENT m VALUES\n",
      "[3, 6, 12, 24, 58]\n",
      "m: 3\n",
      "'predict'  26.98 s\n",
      "accuracy: 0.8\n",
      "m: 6\n",
      "'predict'  51.50 s\n",
      "accuracy: 0.7333333333333333\n",
      "m: 12\n",
      "'predict'  120.43 s\n",
      "accuracy: 0.8\n",
      "m: 24\n",
      "'predict'  232.37 s\n",
      "accuracy: 0.8\n",
      "m: 58\n"
     ]
    }
   ],
   "source": [
    "print(\"CLASSIFY USING PREFEtCH AND PRUNE USING DIFFERENT m VALUES\")\n",
    "\n",
    "list_m = [k, 2*k, 4*k, 8*k, train_size]\n",
    "print(list_m)\n",
    "prefetch_prune_accuracies = []\n",
    "for m in list_m:\n",
    "    print(\"m: {}\".format(m))\n",
    "    y_pred, kNN_indices, kNN_docs, kNN_distances = kNN_classifier.predict(x_test, k=k, m=m, algorithm=\"prefetch_and_prune\")\n",
    "    accuracy = calculate_accuracy(y_pred, y_test)\n",
    "    print(\"accuracy: {}\".format(accuracy))\n",
    "    prefetch_prune_accuracies.append(accuracy)"
   ]
  },
  {
   "cell_type": "code",
   "execution_count": null,
   "metadata": {},
   "outputs": [],
   "source": [
    "print(\"CLASSIFY USING CLASSIC WMD \")\n",
    "\n",
    "y_pred, kNN_indices, kNN_docs, kNN_distances = kNN_classifier.predict(x_test, k=k, algorithm='wmd')\n",
    "wmd_accuracy = calculate_accuracy(y_pred, y_test)\n",
    "print(\"accuracy: {}\".format(wmd_accuracy))"
   ]
  },
  {
   "cell_type": "code",
   "execution_count": null,
   "metadata": {},
   "outputs": [],
   "source": []
  }
 ],
 "metadata": {
  "kernelspec": {
   "display_name": "Python 3",
   "language": "python",
   "name": "python3"
  },
  "language_info": {
   "codemirror_mode": {
    "name": "ipython",
    "version": 3
   },
   "file_extension": ".py",
   "mimetype": "text/x-python",
   "name": "python",
   "nbconvert_exporter": "python",
   "pygments_lexer": "ipython3",
   "version": "3.7.0"
  }
 },
 "nbformat": 4,
 "nbformat_minor": 2
}
